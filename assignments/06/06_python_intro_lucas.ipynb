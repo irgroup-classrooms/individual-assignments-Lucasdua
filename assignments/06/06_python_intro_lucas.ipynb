{
 "cells": [
  {
   "cell_type": "markdown",
   "metadata": {},
   "source": [
    "# DIS08 / OR92 Data Modeling: Python - Introduction (Setup, file management, etc.)"
   ]
  },
  {
   "cell_type": "markdown",
   "metadata": {},
   "source": [
    "In this lecture, we’ll cover and recap the basics of Python programming, including:\n",
    "\n",
    "- Python data structures: lists, tuples, dictionaries, and sets.\n",
    "- Basic file management: reading from and writing to files.\n",
    "- String handling: manipulation of text data and regular expressions.\n",
    "\n",
    "In the lab assignments, you will setup your Python development environment, rerun this notebook, and get started with the `pandas` library.\n",
    "\n",
    "If you would like to study Python more in-depth, we recommend the book [Automate the Boring Stuff With Python](https://automatetheboringstuff.com/). This book also inspired some of the contents in this notebook."
   ]
  },
  {
   "cell_type": "markdown",
   "metadata": {},
   "source": [
    "1. Basic Syntax"
   ]
  },
  {
   "cell_type": "code",
   "execution_count": 4,
   "metadata": {},
   "outputs": [],
   "source": [
    "# This is a comment in Python"
   ]
  },
  {
   "cell_type": "code",
   "execution_count": 1,
   "metadata": {},
   "outputs": [
    {
     "name": "stdout",
     "output_type": "stream",
     "text": [
      "Hello, World!\n"
     ]
    }
   ],
   "source": [
    "# Print \"Hello, World!\" to the console\n",
    "print(\"Hello, World!\")  "
   ]
  },
  {
   "cell_type": "code",
   "execution_count": 2,
   "metadata": {},
   "outputs": [
    {
     "data": {
      "text/plain": [
       "5"
      ]
     },
     "execution_count": 2,
     "metadata": {},
     "output_type": "execute_result"
    }
   ],
   "source": [
    "# Variable assignment\n",
    "x = 5  \n",
    "x"
   ]
  },
  {
   "cell_type": "markdown",
   "metadata": {},
   "source": [
    "2. Data Types"
   ]
  },
  {
   "cell_type": "code",
   "execution_count": 5,
   "metadata": {},
   "outputs": [
    {
     "data": {
      "text/plain": [
       "int"
      ]
     },
     "execution_count": 5,
     "metadata": {},
     "output_type": "execute_result"
    }
   ],
   "source": [
    "# Integer type\n",
    "integer_num = 10\n",
    "type(integer_num)"
   ]
  },
  {
   "cell_type": "code",
   "execution_count": 6,
   "metadata": {},
   "outputs": [
    {
     "data": {
      "text/plain": [
       "float"
      ]
     },
     "execution_count": 6,
     "metadata": {},
     "output_type": "execute_result"
    }
   ],
   "source": [
    "# Float type\n",
    "float_num = 3.14\n",
    "type(float_num)"
   ]
  },
  {
   "cell_type": "code",
   "execution_count": 7,
   "metadata": {},
   "outputs": [
    {
     "data": {
      "text/plain": [
       "str"
      ]
     },
     "execution_count": 7,
     "metadata": {},
     "output_type": "execute_result"
    }
   ],
   "source": [
    "# String type\n",
    "str_val = \"Python\"\n",
    "type(str_val)"
   ]
  },
  {
   "cell_type": "markdown",
   "metadata": {},
   "source": [
    "3. Basic Operators"
   ]
  },
  {
   "cell_type": "code",
   "execution_count": 8,
   "metadata": {},
   "outputs": [],
   "source": [
    "a = 10\n",
    "b = 3"
   ]
  },
  {
   "cell_type": "code",
   "execution_count": 9,
   "metadata": {},
   "outputs": [
    {
     "name": "stdout",
     "output_type": "stream",
     "text": [
      "13\n"
     ]
    }
   ],
   "source": [
    "# Addition\n",
    "print(a + b)"
   ]
  },
  {
   "cell_type": "code",
   "execution_count": 10,
   "metadata": {},
   "outputs": [
    {
     "name": "stdout",
     "output_type": "stream",
     "text": [
      "7\n"
     ]
    }
   ],
   "source": [
    "# Subtraction\n",
    "print(a - b)"
   ]
  },
  {
   "cell_type": "code",
   "execution_count": 11,
   "metadata": {},
   "outputs": [
    {
     "name": "stdout",
     "output_type": "stream",
     "text": [
      "30\n"
     ]
    }
   ],
   "source": [
    "# Multiplication\n",
    "print(a * b)"
   ]
  },
  {
   "cell_type": "code",
   "execution_count": 12,
   "metadata": {},
   "outputs": [
    {
     "name": "stdout",
     "output_type": "stream",
     "text": [
      "3.3333333333333335\n"
     ]
    }
   ],
   "source": [
    "# Division\n",
    "print(a / b)"
   ]
  },
  {
   "cell_type": "code",
   "execution_count": 13,
   "metadata": {},
   "outputs": [
    {
     "name": "stdout",
     "output_type": "stream",
     "text": [
      "1\n"
     ]
    }
   ],
   "source": [
    "# Modulus (remainder)\n",
    "print(a % b)"
   ]
  },
  {
   "cell_type": "code",
   "execution_count": 14,
   "metadata": {},
   "outputs": [
    {
     "name": "stdout",
     "output_type": "stream",
     "text": [
      "1000\n"
     ]
    }
   ],
   "source": [
    "# Exponentiation\n",
    "print(a ** b)"
   ]
  },
  {
   "cell_type": "markdown",
   "metadata": {},
   "source": [
    "4. Control Structures"
   ]
  },
  {
   "cell_type": "code",
   "execution_count": 15,
   "metadata": {},
   "outputs": [
    {
     "name": "stdout",
     "output_type": "stream",
     "text": [
      "Positive\n"
     ]
    }
   ],
   "source": [
    "# If-Else statement\n",
    "x = 5\n",
    "if x > 0:\n",
    "    print(\"Positive\")\n",
    "elif x < 0:\n",
    "    print(\"Negative\")\n",
    "else:\n",
    "    print(\"Zero\")\n"
   ]
  },
  {
   "cell_type": "code",
   "execution_count": 16,
   "metadata": {},
   "outputs": [
    {
     "name": "stdout",
     "output_type": "stream",
     "text": [
      "0\n",
      "1\n",
      "2\n",
      "3\n",
      "4\n"
     ]
    }
   ],
   "source": [
    "# For loop\n",
    "for i in range(5):\n",
    "    print(i)"
   ]
  },
  {
   "cell_type": "code",
   "execution_count": 17,
   "metadata": {},
   "outputs": [
    {
     "name": "stdout",
     "output_type": "stream",
     "text": [
      "0\n",
      "1\n",
      "2\n",
      "3\n",
      "4\n"
     ]
    }
   ],
   "source": [
    "# While loop\n",
    "i = 0\n",
    "while i < 5:\n",
    "    print(i)\n",
    "    i += 1"
   ]
  },
  {
   "cell_type": "markdown",
   "metadata": {},
   "source": [
    "## Data Structures"
   ]
  },
  {
   "cell_type": "code",
   "execution_count": 18,
   "metadata": {},
   "outputs": [
    {
     "name": "stdout",
     "output_type": "stream",
     "text": [
      "1\n",
      "6\n",
      "John\n",
      "{'cherry', 'banana', 'apple'}\n"
     ]
    }
   ],
   "source": [
    "# List\n",
    "my_list = [1, 2, 3, 4, 5]\n",
    "print(my_list[0])  # Accessing elements\n",
    "\n",
    "# Tuple (immutable list)\n",
    "my_tuple = (6, 7, 8)\n",
    "print(my_tuple[0])\n",
    "\n",
    "# Dictionary (key-value pairs)\n",
    "my_dict = {\"name\": \"John\", \"age\": 30, \"city\": \"New York\"}\n",
    "print(my_dict[\"name\"])\n",
    "\n",
    "# Set\n",
    "my_set = {\"apple\", \"banana\", \"cherry\"}\n",
    "print(my_set)\n",
    "\n"
   ]
  },
  {
   "cell_type": "markdown",
   "metadata": {},
   "source": [
    "A list is a collection which is ordered and changeable. It allows duplicate members."
   ]
  },
  {
   "cell_type": "code",
   "execution_count": 19,
   "metadata": {},
   "outputs": [
    {
     "name": "stdout",
     "output_type": "stream",
     "text": [
      "['apple', 'banana', 'cherry']\n",
      "['apple', 'banana', 'cherry', 'orange']\n",
      "banana\n",
      "['apple', 'cherry', 'orange']\n"
     ]
    }
   ],
   "source": [
    "# Creating a list\n",
    "fruits = [\"apple\", \"banana\", \"cherry\"]\n",
    "print(fruits)\n",
    "\n",
    "# Adding an item\n",
    "fruits.append(\"orange\")\n",
    "print(fruits)\n",
    "\n",
    "# Accessing items\n",
    "print(fruits[1])\n",
    "\n",
    "# Removing an item\n",
    "fruits.remove(\"banana\")\n",
    "print(fruits)"
   ]
  },
  {
   "cell_type": "markdown",
   "metadata": {},
   "source": [
    "A tuple is a collection which is ordered but unchangeable (immutable). It allows duplicate members."
   ]
  },
  {
   "cell_type": "code",
   "execution_count": 20,
   "metadata": {},
   "outputs": [
    {
     "name": "stdout",
     "output_type": "stream",
     "text": [
      "('apple', 'banana', 'cherry')\n",
      "banana\n"
     ]
    }
   ],
   "source": [
    "# Creating a tuple\n",
    "my_tuple = (\"apple\", \"banana\", \"cherry\")\n",
    "print(my_tuple)\n",
    "\n",
    "# Accessing items\n",
    "print(my_tuple[1])\n",
    "\n",
    "# Tuples are immutable, so the following code will cause an error:\n",
    "# my_tuple[1] = \"orange\""
   ]
  },
  {
   "cell_type": "markdown",
   "metadata": {},
   "source": [
    "A dictionary is a collection which is unordered, changeable, and indexed. It does not allow duplicates."
   ]
  },
  {
   "cell_type": "code",
   "execution_count": 21,
   "metadata": {},
   "outputs": [
    {
     "name": "stdout",
     "output_type": "stream",
     "text": [
      "{'name': 'Alice', 'age': 25, 'city': 'New York'}\n",
      "Alice\n",
      "{'name': 'Alice', 'age': 26, 'city': 'New York'}\n"
     ]
    }
   ],
   "source": [
    "# Creating a dictionary\n",
    "person = {\n",
    "    \"name\": \"Alice\",\n",
    "    \"age\": 25,\n",
    "    \"city\": \"New York\"\n",
    "}\n",
    "print(person)\n",
    "\n",
    "# Accessing values\n",
    "print(person[\"name\"])\n",
    "\n",
    "# Modifying a value\n",
    "person[\"age\"] = 26\n",
    "print(person)"
   ]
  },
  {
   "cell_type": "markdown",
   "metadata": {},
   "source": [
    "6. Functions"
   ]
  },
  {
   "cell_type": "code",
   "execution_count": 22,
   "metadata": {},
   "outputs": [
    {
     "name": "stdout",
     "output_type": "stream",
     "text": [
      "Hello, Alice!\n"
     ]
    }
   ],
   "source": [
    "def greet(name):\n",
    "    \"\"\"This function greets the person passed in as parameter\"\"\"\n",
    "    print(f\"Hello, {name}!\")\n",
    "\n",
    "greet(\"Alice\")  # Output: Hello, Alice!"
   ]
  },
  {
   "cell_type": "markdown",
   "metadata": {},
   "source": [
    "A set is a collection which is unordered, unindexed, and does not allow duplicate members."
   ]
  },
  {
   "cell_type": "code",
   "execution_count": 23,
   "metadata": {},
   "outputs": [
    {
     "name": "stdout",
     "output_type": "stream",
     "text": [
      "{'cherry', 'banana', 'apple'}\n",
      "{'cherry', 'orange', 'banana', 'apple'}\n",
      "{'cherry', 'orange', 'apple'}\n"
     ]
    }
   ],
   "source": [
    "# Creating a set\n",
    "my_set = {\"apple\", \"banana\", \"cherry\"}\n",
    "print(my_set)\n",
    "\n",
    "# Adding an item\n",
    "my_set.add(\"orange\")\n",
    "print(my_set)\n",
    "\n",
    "# Removing an item\n",
    "my_set.remove(\"banana\")\n",
    "print(my_set)"
   ]
  },
  {
   "cell_type": "markdown",
   "metadata": {},
   "source": [
    "## Basic File Management in Python"
   ]
  },
  {
   "cell_type": "markdown",
   "metadata": {},
   "source": [
    "You can also use many command line tools in a Jupyter notebook. We use `echo` to create a first text file."
   ]
  },
  {
   "cell_type": "code",
   "execution_count": 28,
   "metadata": {},
   "outputs": [],
   "source": [
    "!echo \"This is the beginning of a new file!\\n\" >> example.txt"
   ]
  },
  {
   "cell_type": "markdown",
   "metadata": {},
   "source": [
    "To read a file, use the open() function in reading mode ('r')."
   ]
  },
  {
   "cell_type": "code",
   "execution_count": 30,
   "metadata": {},
   "outputs": [
    {
     "name": "stdout",
     "output_type": "stream",
     "text": [
      "Hello, World!\n",
      "This is a new line.\"This is the beginning of a new file!\\n\" \n",
      "\n"
     ]
    }
   ],
   "source": [
    "# Reading from a file\n",
    "file = open(\"example.txt\", \"r\")\n",
    "\n",
    "# Read the entire content of the file\n",
    "content = file.read()\n",
    "print(content)\n",
    "\n",
    "# Always remember to close the file after you're done\n",
    "file.close()"
   ]
  },
  {
   "cell_type": "markdown",
   "metadata": {},
   "source": [
    "To write to a file, use the open() function in write mode ('w')."
   ]
  },
  {
   "cell_type": "code",
   "execution_count": 31,
   "metadata": {},
   "outputs": [],
   "source": [
    "# Writing to a file\n",
    "file = open(\"example.txt\", \"w\")\n",
    "file.write(\"Hello, World!\\nThis is a new line.\")\n",
    "file.close()"
   ]
  },
  {
   "cell_type": "markdown",
   "metadata": {},
   "source": [
    "You can also append data to an existing file using append mode ('a')."
   ]
  },
  {
   "cell_type": "code",
   "execution_count": 32,
   "metadata": {},
   "outputs": [],
   "source": [
    "# Appending to a file\n",
    "file = open(\"example.txt\", \"a\")\n",
    "file.write(\"\\nThis is an appended line.\")\n",
    "file.close()"
   ]
  },
  {
   "cell_type": "markdown",
   "metadata": {},
   "source": [
    "It’s a good practice to use the `with` statement when working with files to ensure the file is properly closed after the operations."
   ]
  },
  {
   "cell_type": "code",
   "execution_count": 33,
   "metadata": {},
   "outputs": [
    {
     "name": "stdout",
     "output_type": "stream",
     "text": [
      "Hello, World!\n",
      "This is a new line.\n",
      "This is an appended line.\n"
     ]
    }
   ],
   "source": [
    "# Using 'with' statement to open and read a file\n",
    "with open(\"example.txt\", \"r\") as file:\n",
    "    content = file.read()\n",
    "    print(content)"
   ]
  },
  {
   "cell_type": "markdown",
   "metadata": {},
   "source": [
    "## String Handling in Python"
   ]
  },
  {
   "cell_type": "markdown",
   "metadata": {},
   "source": [
    "Python provides a variety of methods for manipulating and handling strings."
   ]
  },
  {
   "cell_type": "code",
   "execution_count": 34,
   "metadata": {},
   "outputs": [
    {
     "name": "stdout",
     "output_type": "stream",
     "text": [
      "Hello, Alice!\n"
     ]
    }
   ],
   "source": [
    "# Concatenating strings\n",
    "greeting = \"Hello\"\n",
    "name = \"Alice\"\n",
    "message = greeting + \", \" + name + \"!\"\n",
    "print(message)"
   ]
  },
  {
   "cell_type": "markdown",
   "metadata": {},
   "source": [
    "**String Formatting:** You can format strings using the format() method or f-strings (in Python 3.6+)."
   ]
  },
  {
   "cell_type": "code",
   "execution_count": 35,
   "metadata": {},
   "outputs": [
    {
     "name": "stdout",
     "output_type": "stream",
     "text": [
      "Hello, Alice!\n",
      "Hello, Alice!\n"
     ]
    }
   ],
   "source": [
    "# Using format method\n",
    "message = \"Hello, {}!\".format(name)\n",
    "print(message)\n",
    "\n",
    "# Using f-strings (Python 3.6+)\n",
    "message = f\"Hello, {name}!\"\n",
    "print(message)"
   ]
  },
  {
   "cell_type": "markdown",
   "metadata": {},
   "source": [
    "**String Methods:** Some common string methods in Python include upper(), lower(), replace(), and split()."
   ]
  },
  {
   "cell_type": "code",
   "execution_count": 36,
   "metadata": {},
   "outputs": [
    {
     "name": "stdout",
     "output_type": "stream",
     "text": [
      "HELLO, WORLD!\n",
      "hello, world!\n",
      "Hello, Python!\n",
      "['Hello', 'World!']\n"
     ]
    }
   ],
   "source": [
    "# Changing case\n",
    "text = \"Hello, World!\"\n",
    "print(text.upper())\n",
    "print(text.lower())\n",
    "\n",
    "# Replacing parts of a string\n",
    "print(text.replace(\"World\", \"Python\"))\n",
    "\n",
    "# Splitting a string\n",
    "words = text.split(\", \")\n",
    "print(words)"
   ]
  },
  {
   "cell_type": "markdown",
   "metadata": {},
   "source": [
    "**Regular expressions:** The re.search() function searches for a match in a string."
   ]
  },
  {
   "cell_type": "code",
   "execution_count": 37,
   "metadata": {},
   "outputs": [
    {
     "name": "stdout",
     "output_type": "stream",
     "text": [
      "Match found!\n"
     ]
    }
   ],
   "source": [
    "import re\n",
    "\n",
    "# Search for the word 'Python' in a string\n",
    "text = \"Welcome to Python programming!\"\n",
    "pattern = \"Python\"\n",
    "\n",
    "# Search for the pattern\n",
    "match = re.search(pattern, text)\n",
    "\n",
    "# The re.search() function looks for the word “Python” in the text. If found, it returns a match object, otherwise None.\n",
    "if match:\n",
    "    print(\"Match found!\")\n",
    "else:\n",
    "    print(\"No match.\")"
   ]
  },
  {
   "cell_type": "markdown",
   "metadata": {},
   "source": [
    "## Quiz time!"
   ]
  },
  {
   "cell_type": "markdown",
   "metadata": {},
   "source": [
    "**Question:** What will be the output of the following code?"
   ]
  },
  {
   "cell_type": "code",
   "execution_count": 3,
   "metadata": {},
   "outputs": [
    {
     "name": "stdout",
     "output_type": "stream",
     "text": [
      "banana\n"
     ]
    }
   ],
   "source": [
    "fruits = [\"apple\", \"banana\", \"cherry\"]\n",
    "fruits.append(\"orange\")\n",
    "print(fruits[1])"
   ]
  },
  {
   "cell_type": "markdown",
   "metadata": {},
   "source": [
    "A) \"apple\"  \n",
    "B) \"banana\"  \n",
    "C) \"cherry\"  \n",
    "D) [\"apple\", \"banana\", \"cherry\", \"orange\"]"
   ]
  },
  {
   "cell_type": "markdown",
   "metadata": {},
   "source": [
    "**Question:** What error will the following code produce?"
   ]
  },
  {
   "cell_type": "code",
   "execution_count": 38,
   "metadata": {},
   "outputs": [
    {
     "ename": "TypeError",
     "evalue": "'tuple' object does not support item assignment",
     "output_type": "error",
     "traceback": [
      "\u001b[1;31m---------------------------------------------------------------------------\u001b[0m",
      "\u001b[1;31mTypeError\u001b[0m                                 Traceback (most recent call last)",
      "Cell \u001b[1;32mIn[38], line 2\u001b[0m\n\u001b[0;32m      1\u001b[0m colors \u001b[38;5;241m=\u001b[39m (\u001b[38;5;124m\"\u001b[39m\u001b[38;5;124mred\u001b[39m\u001b[38;5;124m\"\u001b[39m, \u001b[38;5;124m\"\u001b[39m\u001b[38;5;124mgreen\u001b[39m\u001b[38;5;124m\"\u001b[39m, \u001b[38;5;124m\"\u001b[39m\u001b[38;5;124mblue\u001b[39m\u001b[38;5;124m\"\u001b[39m)\n\u001b[1;32m----> 2\u001b[0m \u001b[43mcolors\u001b[49m\u001b[43m[\u001b[49m\u001b[38;5;241;43m1\u001b[39;49m\u001b[43m]\u001b[49m \u001b[38;5;241m=\u001b[39m \u001b[38;5;124m\"\u001b[39m\u001b[38;5;124myellow\u001b[39m\u001b[38;5;124m\"\u001b[39m\n",
      "\u001b[1;31mTypeError\u001b[0m: 'tuple' object does not support item assignment"
     ]
    }
   ],
   "source": [
    "colors = (\"red\", \"green\", \"blue\")\n",
    "colors[1] = \"yellow\""
   ]
  },
  {
   "cell_type": "markdown",
   "metadata": {},
   "source": [
    "A) TypeError: 'tuple' object does not support item assignment  \n",
    "B) IndexError: tuple index out of range  \n",
    "C) No error, it works fine  \n",
    "D) AttributeError: 'tuple' object has no attribute 'append'"
   ]
  },
  {
   "cell_type": "markdown",
   "metadata": {},
   "source": [
    "**Question:** What will be the value of car[\"year\"] after running the following code?"
   ]
  },
  {
   "cell_type": "code",
   "execution_count": 39,
   "metadata": {},
   "outputs": [
    {
     "name": "stdout",
     "output_type": "stream",
     "text": [
      "2022\n"
     ]
    }
   ],
   "source": [
    "car = {\n",
    "    \"brand\": \"Ford\",\n",
    "    \"model\": \"Mustang\",\n",
    "    \"year\": 1964\n",
    "}\n",
    "car[\"year\"] = 2022\n",
    "print(car[\"year\"])"
   ]
  },
  {
   "cell_type": "markdown",
   "metadata": {},
   "source": [
    "A) 1964  \n",
    "B) 2022  \n",
    "C) None  \n",
    "D) KeyError: 'year'"
   ]
  },
  {
   "cell_type": "markdown",
   "metadata": {},
   "source": [
    "**Question:** What will happen if the following code is executed, and example.txt doesn’t exist in the directory?"
   ]
  },
  {
   "cell_type": "code",
   "execution_count": 40,
   "metadata": {},
   "outputs": [
    {
     "name": "stdout",
     "output_type": "stream",
     "text": [
      "Hello, World!\n",
      "This is a new line.\n",
      "This is an appended line.\n"
     ]
    }
   ],
   "source": [
    "with open(\"example.txt\", \"r\") as file:\n",
    "    content = file.read()\n",
    "    print(content)"
   ]
  },
  {
   "cell_type": "markdown",
   "metadata": {},
   "source": [
    "A) It will create a new file named example.txt.  \n",
    "B) It will throw a FileNotFoundError.  \n",
    "C) It will print an empty string.  \n",
    "D) It will print None.  "
   ]
  },
  {
   "cell_type": "markdown",
   "metadata": {},
   "source": [
    "**Question:** What will be the value of message in the following code?"
   ]
  },
  {
   "cell_type": "code",
   "execution_count": 41,
   "metadata": {},
   "outputs": [
    {
     "name": "stdout",
     "output_type": "stream",
     "text": [
      "Hello, Alice!\n"
     ]
    }
   ],
   "source": [
    "name = \"Alice\"\n",
    "greeting = \"Hello\"\n",
    "message = greeting + \", \" + name + \"!\"\n",
    "print(message)"
   ]
  },
  {
   "cell_type": "markdown",
   "metadata": {},
   "source": [
    "A) \"Hello Alice\"  \n",
    "B) \"Hello, Alice!\"  \n",
    "C) \"Hello Alice!\"  \n",
    "D) \", Alice!\""
   ]
  },
  {
   "cell_type": "markdown",
   "metadata": {},
   "source": [
    "**Question:** What will the following code output?"
   ]
  },
  {
   "cell_type": "code",
   "execution_count": 42,
   "metadata": {},
   "outputs": [
    {
     "name": "stdout",
     "output_type": "stream",
     "text": [
      "WELCOME TO PYTHON\n"
     ]
    }
   ],
   "source": [
    "text = \"Welcome to Python\"\n",
    "print(text.upper())"
   ]
  },
  {
   "cell_type": "markdown",
   "metadata": {},
   "source": [
    "A) WELCOME TO PYTHON  \n",
    "B) welcome to python  \n",
    "C) Welcome To Python  \n",
    "D) Welcome to python"
   ]
  },
  {
   "cell_type": "markdown",
   "metadata": {},
   "source": [
    "**Question:** What happens if you try to add a duplicate item to a set?"
   ]
  },
  {
   "cell_type": "code",
   "execution_count": 43,
   "metadata": {},
   "outputs": [
    {
     "name": "stdout",
     "output_type": "stream",
     "text": [
      "{'cherry', 'banana', 'apple'}\n"
     ]
    }
   ],
   "source": [
    "my_set = {\"apple\", \"banana\", \"cherry\"}\n",
    "my_set.add(\"banana\")\n",
    "print(my_set)"
   ]
  },
  {
   "cell_type": "markdown",
   "metadata": {},
   "source": [
    "A) The set will now contain two \"banana\" items.  \n",
    "B) The set will raise an error.  \n",
    "C) The set will remain unchanged.   \n",
    "D) The set will reorder itself."
   ]
  },
  {
   "cell_type": "markdown",
   "metadata": {},
   "source": [
    "**Question:** What is the correct way to format a string using f-strings in the following code?"
   ]
  },
  {
   "cell_type": "code",
   "execution_count": 44,
   "metadata": {},
   "outputs": [
    {
     "name": "stdout",
     "output_type": "stream",
     "text": [
      "My name is ... and I am ... years old.\n"
     ]
    }
   ],
   "source": [
    "name = \"Alice\"\n",
    "age = 25\n",
    "message = f\"My name is ... and I am ... years old.\"\n",
    "print(message)"
   ]
  },
  {
   "cell_type": "markdown",
   "metadata": {},
   "source": [
    "A) f\"My name is {name} and I am {age} years old.\"  \n",
    "B) f\"My name is name and I am age years old.\"  \n",
    "C) \"My name is {name} and I am {age} years old.\"  \n",
    "D) \"My name is name and I am age years old.\""
   ]
  },
  {
   "cell_type": "markdown",
   "metadata": {},
   "source": [
    "**Question:** What will be the output of the following code?"
   ]
  },
  {
   "cell_type": "code",
   "execution_count": 45,
   "metadata": {},
   "outputs": [
    {
     "name": "stdout",
     "output_type": "stream",
     "text": [
      "40\n"
     ]
    }
   ],
   "source": [
    "numbers = [10, 20, 30, 40, 50]\n",
    "print(numbers[-2])"
   ]
  },
  {
   "cell_type": "markdown",
   "metadata": {},
   "source": [
    "A) 20  \n",
    "B) 40  \n",
    "C) 30  \n",
    "D) 50\n"
   ]
  },
  {
   "cell_type": "markdown",
   "metadata": {},
   "source": [
    "**Question:** What will the following code output?"
   ]
  },
  {
   "cell_type": "code",
   "execution_count": 46,
   "metadata": {},
   "outputs": [
    {
     "name": "stdout",
     "output_type": "stream",
     "text": [
      "False\n"
     ]
    }
   ],
   "source": [
    "person = {\n",
    "    \"name\": \"John\",\n",
    "    \"age\": 30\n",
    "}\n",
    "print(\"height\" in person)"
   ]
  },
  {
   "cell_type": "markdown",
   "metadata": {},
   "source": [
    "A) True  \n",
    "B) False  \n",
    "C) None  \n",
    "D) KeyError: 'height'"
   ]
  },
  {
   "cell_type": "markdown",
   "metadata": {},
   "source": [
    "## Lab Assignments\n",
    "\n",
    "Download this notebook from Moodle and rerun the examples from today's lecture. If you can execute all of the code cells above you are done! The setup guide below will help you to get started!\n",
    "\n",
    "Once, you have setup your Python/Jupyter environment, please do the following task:\n",
    "\n",
    "- Download this [dataset](https://librarycarpentry.org/lc-python-intro/files/data.zip) and extract it (do not commit it to this repository).\n",
    "- Get familiar with the [pandas](https://pandas.pydata.org/) library and install it in your Python environment.\n",
    "- Load one or more of the CSV files in the data/ directory as a DataFrame.\n",
    "- Use the functions `info()`, `head()`, `tail()`, `describe()`, and the variable `columns` to get some basic information about the data. Also document and describe the outputs.\n",
    "- How do you get the first/last ten rows of the DataFrame?\n",
    "- How do you get the rows between row 30 and row 40?\n",
    "- How do you get a specific column, e.g., 'year'? What kind of `type()` has the column?\n",
    "- What is the `*.pkl` file? How do load it into your program and what are the data contents in it?\n",
    "- What is the purpose of `.loc()` and `.iloc()`?\n",
    "- How do you sort values in a column?\n",
    "\n",
    "When you have completed the tasks, please commit this notebook to your GitHub repository in the directory `assignments/06/`.\n"
   ]
  },
  {
   "cell_type": "code",
   "execution_count": 47,
   "metadata": {},
   "outputs": [],
   "source": [
    "import pandas as pd\n",
    "# Defining the File Path\n",
    "file_path = r\"C:\\Users\\User\\OneDrive\\Documentos\\DataModeling\\data\\data\\2017_circ.csv\"\n",
    "# Reading the CSV File into a DataFrame\n",
    "df = pd.read_csv(file_path)"
   ]
  },
  {
   "cell_type": "code",
   "execution_count": 48,
   "metadata": {},
   "outputs": [
    {
     "name": "stdout",
     "output_type": "stream",
     "text": [
      "<class 'pandas.core.frame.DataFrame'>\n",
      "RangeIndex: 80 entries, 0 to 79\n",
      "Data columns (total 17 columns):\n",
      " #   Column     Non-Null Count  Dtype  \n",
      "---  ------     --------------  -----  \n",
      " 0   branch     80 non-null     object \n",
      " 1   address    0 non-null      float64\n",
      " 2   city       0 non-null      float64\n",
      " 3   zip code   0 non-null      float64\n",
      " 4   january    80 non-null     int64  \n",
      " 5   february   80 non-null     int64  \n",
      " 6   march      80 non-null     int64  \n",
      " 7   april      80 non-null     int64  \n",
      " 8   may        80 non-null     int64  \n",
      " 9   june       80 non-null     int64  \n",
      " 10  july       80 non-null     int64  \n",
      " 11  august     80 non-null     int64  \n",
      " 12  september  80 non-null     int64  \n",
      " 13  october    80 non-null     int64  \n",
      " 14  november   80 non-null     int64  \n",
      " 15  december   80 non-null     int64  \n",
      " 16  ytd        80 non-null     int64  \n",
      "dtypes: float64(3), int64(13), object(1)\n",
      "memory usage: 10.8+ KB\n"
     ]
    }
   ],
   "source": [
    "df.info()"
   ]
  },
  {
   "cell_type": "code",
   "execution_count": 49,
   "metadata": {},
   "outputs": [
    {
     "data": {
      "text/html": [
       "<div>\n",
       "<style scoped>\n",
       "    .dataframe tbody tr th:only-of-type {\n",
       "        vertical-align: middle;\n",
       "    }\n",
       "\n",
       "    .dataframe tbody tr th {\n",
       "        vertical-align: top;\n",
       "    }\n",
       "\n",
       "    .dataframe thead th {\n",
       "        text-align: right;\n",
       "    }\n",
       "</style>\n",
       "<table border=\"1\" class=\"dataframe\">\n",
       "  <thead>\n",
       "    <tr style=\"text-align: right;\">\n",
       "      <th></th>\n",
       "      <th>branch</th>\n",
       "      <th>address</th>\n",
       "      <th>city</th>\n",
       "      <th>zip code</th>\n",
       "      <th>january</th>\n",
       "      <th>february</th>\n",
       "      <th>march</th>\n",
       "      <th>april</th>\n",
       "      <th>may</th>\n",
       "      <th>june</th>\n",
       "      <th>july</th>\n",
       "      <th>august</th>\n",
       "      <th>september</th>\n",
       "      <th>october</th>\n",
       "      <th>november</th>\n",
       "      <th>december</th>\n",
       "      <th>ytd</th>\n",
       "    </tr>\n",
       "  </thead>\n",
       "  <tbody>\n",
       "    <tr>\n",
       "      <th>0</th>\n",
       "      <td>Altgeld</td>\n",
       "      <td>NaN</td>\n",
       "      <td>NaN</td>\n",
       "      <td>NaN</td>\n",
       "      <td>316</td>\n",
       "      <td>230</td>\n",
       "      <td>331</td>\n",
       "      <td>404</td>\n",
       "      <td>249</td>\n",
       "      <td>294</td>\n",
       "      <td>583</td>\n",
       "      <td>568</td>\n",
       "      <td>419</td>\n",
       "      <td>355</td>\n",
       "      <td>268</td>\n",
       "      <td>280</td>\n",
       "      <td>4297</td>\n",
       "    </tr>\n",
       "    <tr>\n",
       "      <th>1</th>\n",
       "      <td>Garfield Ridge</td>\n",
       "      <td>NaN</td>\n",
       "      <td>NaN</td>\n",
       "      <td>NaN</td>\n",
       "      <td>5079</td>\n",
       "      <td>4561</td>\n",
       "      <td>5600</td>\n",
       "      <td>4880</td>\n",
       "      <td>4483</td>\n",
       "      <td>5670</td>\n",
       "      <td>5967</td>\n",
       "      <td>5149</td>\n",
       "      <td>4944</td>\n",
       "      <td>5441</td>\n",
       "      <td>5147</td>\n",
       "      <td>4513</td>\n",
       "      <td>61434</td>\n",
       "    </tr>\n",
       "    <tr>\n",
       "      <th>2</th>\n",
       "      <td>Rogers Park</td>\n",
       "      <td>NaN</td>\n",
       "      <td>NaN</td>\n",
       "      <td>NaN</td>\n",
       "      <td>9954</td>\n",
       "      <td>8866</td>\n",
       "      <td>10334</td>\n",
       "      <td>10420</td>\n",
       "      <td>10106</td>\n",
       "      <td>10935</td>\n",
       "      <td>11882</td>\n",
       "      <td>12265</td>\n",
       "      <td>10696</td>\n",
       "      <td>11163</td>\n",
       "      <td>10010</td>\n",
       "      <td>9515</td>\n",
       "      <td>126146</td>\n",
       "    </tr>\n",
       "    <tr>\n",
       "      <th>3</th>\n",
       "      <td>Merlo</td>\n",
       "      <td>NaN</td>\n",
       "      <td>NaN</td>\n",
       "      <td>NaN</td>\n",
       "      <td>8128</td>\n",
       "      <td>7446</td>\n",
       "      <td>8751</td>\n",
       "      <td>7102</td>\n",
       "      <td>8065</td>\n",
       "      <td>7862</td>\n",
       "      <td>8108</td>\n",
       "      <td>8844</td>\n",
       "      <td>7964</td>\n",
       "      <td>8011</td>\n",
       "      <td>8356</td>\n",
       "      <td>6840</td>\n",
       "      <td>95477</td>\n",
       "    </tr>\n",
       "    <tr>\n",
       "      <th>4</th>\n",
       "      <td>Legler Regional</td>\n",
       "      <td>NaN</td>\n",
       "      <td>NaN</td>\n",
       "      <td>NaN</td>\n",
       "      <td>1357</td>\n",
       "      <td>1038</td>\n",
       "      <td>1077</td>\n",
       "      <td>1095</td>\n",
       "      <td>857</td>\n",
       "      <td>1151</td>\n",
       "      <td>1153</td>\n",
       "      <td>1110</td>\n",
       "      <td>905</td>\n",
       "      <td>1007</td>\n",
       "      <td>972</td>\n",
       "      <td>798</td>\n",
       "      <td>12520</td>\n",
       "    </tr>\n",
       "  </tbody>\n",
       "</table>\n",
       "</div>"
      ],
      "text/plain": [
       "            branch  address  city  zip code  january  february  march  april  \\\n",
       "0          Altgeld      NaN   NaN       NaN      316       230    331    404   \n",
       "1   Garfield Ridge      NaN   NaN       NaN     5079      4561   5600   4880   \n",
       "2      Rogers Park      NaN   NaN       NaN     9954      8866  10334  10420   \n",
       "3            Merlo      NaN   NaN       NaN     8128      7446   8751   7102   \n",
       "4  Legler Regional      NaN   NaN       NaN     1357      1038   1077   1095   \n",
       "\n",
       "     may   june   july  august  september  october  november  december     ytd  \n",
       "0    249    294    583     568        419      355       268       280    4297  \n",
       "1   4483   5670   5967    5149       4944     5441      5147      4513   61434  \n",
       "2  10106  10935  11882   12265      10696    11163     10010      9515  126146  \n",
       "3   8065   7862   8108    8844       7964     8011      8356      6840   95477  \n",
       "4    857   1151   1153    1110        905     1007       972       798   12520  "
      ]
     },
     "execution_count": 49,
     "metadata": {},
     "output_type": "execute_result"
    }
   ],
   "source": [
    "df.head()"
   ]
  },
  {
   "cell_type": "code",
   "execution_count": 50,
   "metadata": {},
   "outputs": [
    {
     "data": {
      "text/html": [
       "<div>\n",
       "<style scoped>\n",
       "    .dataframe tbody tr th:only-of-type {\n",
       "        vertical-align: middle;\n",
       "    }\n",
       "\n",
       "    .dataframe tbody tr th {\n",
       "        vertical-align: top;\n",
       "    }\n",
       "\n",
       "    .dataframe thead th {\n",
       "        text-align: right;\n",
       "    }\n",
       "</style>\n",
       "<table border=\"1\" class=\"dataframe\">\n",
       "  <thead>\n",
       "    <tr style=\"text-align: right;\">\n",
       "      <th></th>\n",
       "      <th>branch</th>\n",
       "      <th>address</th>\n",
       "      <th>city</th>\n",
       "      <th>zip code</th>\n",
       "      <th>january</th>\n",
       "      <th>february</th>\n",
       "      <th>march</th>\n",
       "      <th>april</th>\n",
       "      <th>may</th>\n",
       "      <th>june</th>\n",
       "      <th>july</th>\n",
       "      <th>august</th>\n",
       "      <th>september</th>\n",
       "      <th>october</th>\n",
       "      <th>november</th>\n",
       "      <th>december</th>\n",
       "      <th>ytd</th>\n",
       "    </tr>\n",
       "  </thead>\n",
       "  <tbody>\n",
       "    <tr>\n",
       "      <th>75</th>\n",
       "      <td>Clearing</td>\n",
       "      <td>NaN</td>\n",
       "      <td>NaN</td>\n",
       "      <td>NaN</td>\n",
       "      <td>3420</td>\n",
       "      <td>2819</td>\n",
       "      <td>3504</td>\n",
       "      <td>3316</td>\n",
       "      <td>2671</td>\n",
       "      <td>3383</td>\n",
       "      <td>3934</td>\n",
       "      <td>3478</td>\n",
       "      <td>3035</td>\n",
       "      <td>3067</td>\n",
       "      <td>2890</td>\n",
       "      <td>2433</td>\n",
       "      <td>37950</td>\n",
       "    </tr>\n",
       "    <tr>\n",
       "      <th>76</th>\n",
       "      <td>Little Village</td>\n",
       "      <td>NaN</td>\n",
       "      <td>NaN</td>\n",
       "      <td>NaN</td>\n",
       "      <td>5735</td>\n",
       "      <td>4749</td>\n",
       "      <td>5270</td>\n",
       "      <td>5210</td>\n",
       "      <td>4804</td>\n",
       "      <td>4426</td>\n",
       "      <td>5161</td>\n",
       "      <td>5317</td>\n",
       "      <td>5175</td>\n",
       "      <td>5790</td>\n",
       "      <td>5308</td>\n",
       "      <td>4297</td>\n",
       "      <td>61242</td>\n",
       "    </tr>\n",
       "    <tr>\n",
       "      <th>77</th>\n",
       "      <td>Sulzer Regional</td>\n",
       "      <td>NaN</td>\n",
       "      <td>NaN</td>\n",
       "      <td>NaN</td>\n",
       "      <td>34177</td>\n",
       "      <td>31377</td>\n",
       "      <td>37311</td>\n",
       "      <td>34055</td>\n",
       "      <td>33331</td>\n",
       "      <td>35679</td>\n",
       "      <td>36438</td>\n",
       "      <td>36798</td>\n",
       "      <td>32274</td>\n",
       "      <td>32816</td>\n",
       "      <td>32316</td>\n",
       "      <td>26751</td>\n",
       "      <td>403323</td>\n",
       "    </tr>\n",
       "    <tr>\n",
       "      <th>78</th>\n",
       "      <td>Roosevelt</td>\n",
       "      <td>NaN</td>\n",
       "      <td>NaN</td>\n",
       "      <td>NaN</td>\n",
       "      <td>4682</td>\n",
       "      <td>4538</td>\n",
       "      <td>4967</td>\n",
       "      <td>5117</td>\n",
       "      <td>4981</td>\n",
       "      <td>5319</td>\n",
       "      <td>5615</td>\n",
       "      <td>5496</td>\n",
       "      <td>4724</td>\n",
       "      <td>4427</td>\n",
       "      <td>4410</td>\n",
       "      <td>4090</td>\n",
       "      <td>58366</td>\n",
       "    </tr>\n",
       "    <tr>\n",
       "      <th>79</th>\n",
       "      <td>McKinley Park</td>\n",
       "      <td>NaN</td>\n",
       "      <td>NaN</td>\n",
       "      <td>NaN</td>\n",
       "      <td>5830</td>\n",
       "      <td>5592</td>\n",
       "      <td>6332</td>\n",
       "      <td>5874</td>\n",
       "      <td>5708</td>\n",
       "      <td>6004</td>\n",
       "      <td>5965</td>\n",
       "      <td>5950</td>\n",
       "      <td>5266</td>\n",
       "      <td>5876</td>\n",
       "      <td>5309</td>\n",
       "      <td>4873</td>\n",
       "      <td>68579</td>\n",
       "    </tr>\n",
       "  </tbody>\n",
       "</table>\n",
       "</div>"
      ],
      "text/plain": [
       "             branch  address  city  zip code  january  february  march  april  \\\n",
       "75         Clearing      NaN   NaN       NaN     3420      2819   3504   3316   \n",
       "76   Little Village      NaN   NaN       NaN     5735      4749   5270   5210   \n",
       "77  Sulzer Regional      NaN   NaN       NaN    34177     31377  37311  34055   \n",
       "78        Roosevelt      NaN   NaN       NaN     4682      4538   4967   5117   \n",
       "79    McKinley Park      NaN   NaN       NaN     5830      5592   6332   5874   \n",
       "\n",
       "      may   june   july  august  september  october  november  december  \\\n",
       "75   2671   3383   3934    3478       3035     3067      2890      2433   \n",
       "76   4804   4426   5161    5317       5175     5790      5308      4297   \n",
       "77  33331  35679  36438   36798      32274    32816     32316     26751   \n",
       "78   4981   5319   5615    5496       4724     4427      4410      4090   \n",
       "79   5708   6004   5965    5950       5266     5876      5309      4873   \n",
       "\n",
       "       ytd  \n",
       "75   37950  \n",
       "76   61242  \n",
       "77  403323  \n",
       "78   58366  \n",
       "79   68579  "
      ]
     },
     "execution_count": 50,
     "metadata": {},
     "output_type": "execute_result"
    }
   ],
   "source": [
    "df.tail()"
   ]
  },
  {
   "cell_type": "code",
   "execution_count": 51,
   "metadata": {},
   "outputs": [
    {
     "data": {
      "text/html": [
       "<div>\n",
       "<style scoped>\n",
       "    .dataframe tbody tr th:only-of-type {\n",
       "        vertical-align: middle;\n",
       "    }\n",
       "\n",
       "    .dataframe tbody tr th {\n",
       "        vertical-align: top;\n",
       "    }\n",
       "\n",
       "    .dataframe thead th {\n",
       "        text-align: right;\n",
       "    }\n",
       "</style>\n",
       "<table border=\"1\" class=\"dataframe\">\n",
       "  <thead>\n",
       "    <tr style=\"text-align: right;\">\n",
       "      <th></th>\n",
       "      <th>address</th>\n",
       "      <th>city</th>\n",
       "      <th>zip code</th>\n",
       "      <th>january</th>\n",
       "      <th>february</th>\n",
       "      <th>march</th>\n",
       "      <th>april</th>\n",
       "      <th>may</th>\n",
       "      <th>june</th>\n",
       "      <th>july</th>\n",
       "      <th>august</th>\n",
       "      <th>september</th>\n",
       "      <th>october</th>\n",
       "      <th>november</th>\n",
       "      <th>december</th>\n",
       "      <th>ytd</th>\n",
       "    </tr>\n",
       "  </thead>\n",
       "  <tbody>\n",
       "    <tr>\n",
       "      <th>count</th>\n",
       "      <td>0.0</td>\n",
       "      <td>0.0</td>\n",
       "      <td>0.0</td>\n",
       "      <td>80.000000</td>\n",
       "      <td>80.000000</td>\n",
       "      <td>80.000000</td>\n",
       "      <td>80.00000</td>\n",
       "      <td>80.00000</td>\n",
       "      <td>80.00000</td>\n",
       "      <td>80.000000</td>\n",
       "      <td>80.000000</td>\n",
       "      <td>80.000000</td>\n",
       "      <td>80.000000</td>\n",
       "      <td>80.000000</td>\n",
       "      <td>80.000000</td>\n",
       "      <td>80.000000</td>\n",
       "    </tr>\n",
       "    <tr>\n",
       "      <th>mean</th>\n",
       "      <td>NaN</td>\n",
       "      <td>NaN</td>\n",
       "      <td>NaN</td>\n",
       "      <td>5676.050000</td>\n",
       "      <td>5116.950000</td>\n",
       "      <td>5884.887500</td>\n",
       "      <td>5378.83750</td>\n",
       "      <td>5208.41250</td>\n",
       "      <td>5764.66250</td>\n",
       "      <td>6097.475000</td>\n",
       "      <td>6147.250000</td>\n",
       "      <td>5393.800000</td>\n",
       "      <td>5612.537500</td>\n",
       "      <td>5355.175000</td>\n",
       "      <td>4684.262500</td>\n",
       "      <td>66320.300000</td>\n",
       "    </tr>\n",
       "    <tr>\n",
       "      <th>std</th>\n",
       "      <td>NaN</td>\n",
       "      <td>NaN</td>\n",
       "      <td>NaN</td>\n",
       "      <td>7115.582764</td>\n",
       "      <td>6447.984216</td>\n",
       "      <td>7412.432642</td>\n",
       "      <td>6796.84238</td>\n",
       "      <td>6819.51714</td>\n",
       "      <td>7192.98431</td>\n",
       "      <td>7889.075629</td>\n",
       "      <td>8004.629875</td>\n",
       "      <td>7008.071895</td>\n",
       "      <td>7218.908722</td>\n",
       "      <td>7190.884526</td>\n",
       "      <td>6230.521747</td>\n",
       "      <td>85166.625251</td>\n",
       "    </tr>\n",
       "    <tr>\n",
       "      <th>min</th>\n",
       "      <td>NaN</td>\n",
       "      <td>NaN</td>\n",
       "      <td>NaN</td>\n",
       "      <td>0.000000</td>\n",
       "      <td>0.000000</td>\n",
       "      <td>0.000000</td>\n",
       "      <td>0.00000</td>\n",
       "      <td>0.00000</td>\n",
       "      <td>0.00000</td>\n",
       "      <td>0.000000</td>\n",
       "      <td>0.000000</td>\n",
       "      <td>0.000000</td>\n",
       "      <td>0.000000</td>\n",
       "      <td>0.000000</td>\n",
       "      <td>0.000000</td>\n",
       "      <td>0.000000</td>\n",
       "    </tr>\n",
       "    <tr>\n",
       "      <th>25%</th>\n",
       "      <td>NaN</td>\n",
       "      <td>NaN</td>\n",
       "      <td>NaN</td>\n",
       "      <td>1991.750000</td>\n",
       "      <td>1569.000000</td>\n",
       "      <td>1841.750000</td>\n",
       "      <td>1837.00000</td>\n",
       "      <td>1684.25000</td>\n",
       "      <td>1776.50000</td>\n",
       "      <td>1896.000000</td>\n",
       "      <td>2012.750000</td>\n",
       "      <td>1797.000000</td>\n",
       "      <td>1929.500000</td>\n",
       "      <td>1667.750000</td>\n",
       "      <td>1549.250000</td>\n",
       "      <td>22232.000000</td>\n",
       "    </tr>\n",
       "    <tr>\n",
       "      <th>50%</th>\n",
       "      <td>NaN</td>\n",
       "      <td>NaN</td>\n",
       "      <td>NaN</td>\n",
       "      <td>4228.500000</td>\n",
       "      <td>4011.000000</td>\n",
       "      <td>4482.500000</td>\n",
       "      <td>4164.00000</td>\n",
       "      <td>3783.00000</td>\n",
       "      <td>4262.50000</td>\n",
       "      <td>4621.500000</td>\n",
       "      <td>4661.000000</td>\n",
       "      <td>3951.500000</td>\n",
       "      <td>4479.500000</td>\n",
       "      <td>3936.000000</td>\n",
       "      <td>3410.500000</td>\n",
       "      <td>49699.500000</td>\n",
       "    </tr>\n",
       "    <tr>\n",
       "      <th>75%</th>\n",
       "      <td>NaN</td>\n",
       "      <td>NaN</td>\n",
       "      <td>NaN</td>\n",
       "      <td>7264.250000</td>\n",
       "      <td>6698.500000</td>\n",
       "      <td>7306.500000</td>\n",
       "      <td>6669.50000</td>\n",
       "      <td>6543.25000</td>\n",
       "      <td>7472.75000</td>\n",
       "      <td>7912.250000</td>\n",
       "      <td>8087.750000</td>\n",
       "      <td>6815.000000</td>\n",
       "      <td>6881.750000</td>\n",
       "      <td>6846.500000</td>\n",
       "      <td>5977.000000</td>\n",
       "      <td>83956.000000</td>\n",
       "    </tr>\n",
       "    <tr>\n",
       "      <th>max</th>\n",
       "      <td>NaN</td>\n",
       "      <td>NaN</td>\n",
       "      <td>NaN</td>\n",
       "      <td>52985.000000</td>\n",
       "      <td>47301.000000</td>\n",
       "      <td>53412.000000</td>\n",
       "      <td>49640.00000</td>\n",
       "      <td>49826.00000</td>\n",
       "      <td>51680.00000</td>\n",
       "      <td>59485.000000</td>\n",
       "      <td>60577.000000</td>\n",
       "      <td>52602.000000</td>\n",
       "      <td>54979.000000</td>\n",
       "      <td>54575.000000</td>\n",
       "      <td>47508.000000</td>\n",
       "      <td>634570.000000</td>\n",
       "    </tr>\n",
       "  </tbody>\n",
       "</table>\n",
       "</div>"
      ],
      "text/plain": [
       "       address  city  zip code       january      february         march  \\\n",
       "count      0.0   0.0       0.0     80.000000     80.000000     80.000000   \n",
       "mean       NaN   NaN       NaN   5676.050000   5116.950000   5884.887500   \n",
       "std        NaN   NaN       NaN   7115.582764   6447.984216   7412.432642   \n",
       "min        NaN   NaN       NaN      0.000000      0.000000      0.000000   \n",
       "25%        NaN   NaN       NaN   1991.750000   1569.000000   1841.750000   \n",
       "50%        NaN   NaN       NaN   4228.500000   4011.000000   4482.500000   \n",
       "75%        NaN   NaN       NaN   7264.250000   6698.500000   7306.500000   \n",
       "max        NaN   NaN       NaN  52985.000000  47301.000000  53412.000000   \n",
       "\n",
       "             april          may         june          july        august  \\\n",
       "count     80.00000     80.00000     80.00000     80.000000     80.000000   \n",
       "mean    5378.83750   5208.41250   5764.66250   6097.475000   6147.250000   \n",
       "std     6796.84238   6819.51714   7192.98431   7889.075629   8004.629875   \n",
       "min        0.00000      0.00000      0.00000      0.000000      0.000000   \n",
       "25%     1837.00000   1684.25000   1776.50000   1896.000000   2012.750000   \n",
       "50%     4164.00000   3783.00000   4262.50000   4621.500000   4661.000000   \n",
       "75%     6669.50000   6543.25000   7472.75000   7912.250000   8087.750000   \n",
       "max    49640.00000  49826.00000  51680.00000  59485.000000  60577.000000   \n",
       "\n",
       "          september       october      november      december            ytd  \n",
       "count     80.000000     80.000000     80.000000     80.000000      80.000000  \n",
       "mean    5393.800000   5612.537500   5355.175000   4684.262500   66320.300000  \n",
       "std     7008.071895   7218.908722   7190.884526   6230.521747   85166.625251  \n",
       "min        0.000000      0.000000      0.000000      0.000000       0.000000  \n",
       "25%     1797.000000   1929.500000   1667.750000   1549.250000   22232.000000  \n",
       "50%     3951.500000   4479.500000   3936.000000   3410.500000   49699.500000  \n",
       "75%     6815.000000   6881.750000   6846.500000   5977.000000   83956.000000  \n",
       "max    52602.000000  54979.000000  54575.000000  47508.000000  634570.000000  "
      ]
     },
     "execution_count": 51,
     "metadata": {},
     "output_type": "execute_result"
    }
   ],
   "source": [
    "df.describe()"
   ]
  },
  {
   "cell_type": "code",
   "execution_count": 52,
   "metadata": {},
   "outputs": [
    {
     "name": "stdout",
     "output_type": "stream",
     "text": [
      "Index(['branch', 'address', 'city', 'zip code', 'january', 'february', 'march',\n",
      "       'april', 'may', 'june', 'july', 'august', 'september', 'october',\n",
      "       'november', 'december', 'ytd'],\n",
      "      dtype='object')\n"
     ]
    }
   ],
   "source": [
    "print(df.columns)"
   ]
  },
  {
   "cell_type": "code",
   "execution_count": 55,
   "metadata": {},
   "outputs": [
    {
     "data": {
      "text/html": [
       "<div>\n",
       "<style scoped>\n",
       "    .dataframe tbody tr th:only-of-type {\n",
       "        vertical-align: middle;\n",
       "    }\n",
       "\n",
       "    .dataframe tbody tr th {\n",
       "        vertical-align: top;\n",
       "    }\n",
       "\n",
       "    .dataframe thead th {\n",
       "        text-align: right;\n",
       "    }\n",
       "</style>\n",
       "<table border=\"1\" class=\"dataframe\">\n",
       "  <thead>\n",
       "    <tr style=\"text-align: right;\">\n",
       "      <th></th>\n",
       "      <th>branch</th>\n",
       "      <th>address</th>\n",
       "      <th>city</th>\n",
       "      <th>zip code</th>\n",
       "      <th>january</th>\n",
       "      <th>february</th>\n",
       "      <th>march</th>\n",
       "      <th>april</th>\n",
       "      <th>may</th>\n",
       "      <th>june</th>\n",
       "      <th>july</th>\n",
       "      <th>august</th>\n",
       "      <th>september</th>\n",
       "      <th>october</th>\n",
       "      <th>november</th>\n",
       "      <th>december</th>\n",
       "      <th>ytd</th>\n",
       "    </tr>\n",
       "  </thead>\n",
       "  <tbody>\n",
       "    <tr>\n",
       "      <th>70</th>\n",
       "      <td>Near North</td>\n",
       "      <td>NaN</td>\n",
       "      <td>NaN</td>\n",
       "      <td>NaN</td>\n",
       "      <td>9473</td>\n",
       "      <td>8531</td>\n",
       "      <td>9317</td>\n",
       "      <td>8486</td>\n",
       "      <td>9239</td>\n",
       "      <td>9930</td>\n",
       "      <td>9859</td>\n",
       "      <td>10012</td>\n",
       "      <td>9740</td>\n",
       "      <td>9065</td>\n",
       "      <td>9125</td>\n",
       "      <td>8144</td>\n",
       "      <td>110921</td>\n",
       "    </tr>\n",
       "    <tr>\n",
       "      <th>71</th>\n",
       "      <td>Scottsdale</td>\n",
       "      <td>NaN</td>\n",
       "      <td>NaN</td>\n",
       "      <td>NaN</td>\n",
       "      <td>2879</td>\n",
       "      <td>2616</td>\n",
       "      <td>3373</td>\n",
       "      <td>2807</td>\n",
       "      <td>2550</td>\n",
       "      <td>3019</td>\n",
       "      <td>3326</td>\n",
       "      <td>2845</td>\n",
       "      <td>2593</td>\n",
       "      <td>2412</td>\n",
       "      <td>2501</td>\n",
       "      <td>1959</td>\n",
       "      <td>32880</td>\n",
       "    </tr>\n",
       "    <tr>\n",
       "      <th>72</th>\n",
       "      <td>Portage-Cragin</td>\n",
       "      <td>NaN</td>\n",
       "      <td>NaN</td>\n",
       "      <td>NaN</td>\n",
       "      <td>7500</td>\n",
       "      <td>6941</td>\n",
       "      <td>7699</td>\n",
       "      <td>7441</td>\n",
       "      <td>6959</td>\n",
       "      <td>7523</td>\n",
       "      <td>8173</td>\n",
       "      <td>8384</td>\n",
       "      <td>7509</td>\n",
       "      <td>7659</td>\n",
       "      <td>7623</td>\n",
       "      <td>6333</td>\n",
       "      <td>89744</td>\n",
       "    </tr>\n",
       "    <tr>\n",
       "      <th>73</th>\n",
       "      <td>Walker</td>\n",
       "      <td>NaN</td>\n",
       "      <td>NaN</td>\n",
       "      <td>NaN</td>\n",
       "      <td>1934</td>\n",
       "      <td>1503</td>\n",
       "      <td>1900</td>\n",
       "      <td>1757</td>\n",
       "      <td>1586</td>\n",
       "      <td>1769</td>\n",
       "      <td>2204</td>\n",
       "      <td>2057</td>\n",
       "      <td>1749</td>\n",
       "      <td>1800</td>\n",
       "      <td>1675</td>\n",
       "      <td>1575</td>\n",
       "      <td>21509</td>\n",
       "    </tr>\n",
       "    <tr>\n",
       "      <th>74</th>\n",
       "      <td>Brainerd</td>\n",
       "      <td>NaN</td>\n",
       "      <td>NaN</td>\n",
       "      <td>NaN</td>\n",
       "      <td>1087</td>\n",
       "      <td>957</td>\n",
       "      <td>990</td>\n",
       "      <td>872</td>\n",
       "      <td>858</td>\n",
       "      <td>1027</td>\n",
       "      <td>944</td>\n",
       "      <td>1236</td>\n",
       "      <td>984</td>\n",
       "      <td>1020</td>\n",
       "      <td>1102</td>\n",
       "      <td>1348</td>\n",
       "      <td>12425</td>\n",
       "    </tr>\n",
       "    <tr>\n",
       "      <th>75</th>\n",
       "      <td>Clearing</td>\n",
       "      <td>NaN</td>\n",
       "      <td>NaN</td>\n",
       "      <td>NaN</td>\n",
       "      <td>3420</td>\n",
       "      <td>2819</td>\n",
       "      <td>3504</td>\n",
       "      <td>3316</td>\n",
       "      <td>2671</td>\n",
       "      <td>3383</td>\n",
       "      <td>3934</td>\n",
       "      <td>3478</td>\n",
       "      <td>3035</td>\n",
       "      <td>3067</td>\n",
       "      <td>2890</td>\n",
       "      <td>2433</td>\n",
       "      <td>37950</td>\n",
       "    </tr>\n",
       "    <tr>\n",
       "      <th>76</th>\n",
       "      <td>Little Village</td>\n",
       "      <td>NaN</td>\n",
       "      <td>NaN</td>\n",
       "      <td>NaN</td>\n",
       "      <td>5735</td>\n",
       "      <td>4749</td>\n",
       "      <td>5270</td>\n",
       "      <td>5210</td>\n",
       "      <td>4804</td>\n",
       "      <td>4426</td>\n",
       "      <td>5161</td>\n",
       "      <td>5317</td>\n",
       "      <td>5175</td>\n",
       "      <td>5790</td>\n",
       "      <td>5308</td>\n",
       "      <td>4297</td>\n",
       "      <td>61242</td>\n",
       "    </tr>\n",
       "    <tr>\n",
       "      <th>77</th>\n",
       "      <td>Sulzer Regional</td>\n",
       "      <td>NaN</td>\n",
       "      <td>NaN</td>\n",
       "      <td>NaN</td>\n",
       "      <td>34177</td>\n",
       "      <td>31377</td>\n",
       "      <td>37311</td>\n",
       "      <td>34055</td>\n",
       "      <td>33331</td>\n",
       "      <td>35679</td>\n",
       "      <td>36438</td>\n",
       "      <td>36798</td>\n",
       "      <td>32274</td>\n",
       "      <td>32816</td>\n",
       "      <td>32316</td>\n",
       "      <td>26751</td>\n",
       "      <td>403323</td>\n",
       "    </tr>\n",
       "    <tr>\n",
       "      <th>78</th>\n",
       "      <td>Roosevelt</td>\n",
       "      <td>NaN</td>\n",
       "      <td>NaN</td>\n",
       "      <td>NaN</td>\n",
       "      <td>4682</td>\n",
       "      <td>4538</td>\n",
       "      <td>4967</td>\n",
       "      <td>5117</td>\n",
       "      <td>4981</td>\n",
       "      <td>5319</td>\n",
       "      <td>5615</td>\n",
       "      <td>5496</td>\n",
       "      <td>4724</td>\n",
       "      <td>4427</td>\n",
       "      <td>4410</td>\n",
       "      <td>4090</td>\n",
       "      <td>58366</td>\n",
       "    </tr>\n",
       "    <tr>\n",
       "      <th>79</th>\n",
       "      <td>McKinley Park</td>\n",
       "      <td>NaN</td>\n",
       "      <td>NaN</td>\n",
       "      <td>NaN</td>\n",
       "      <td>5830</td>\n",
       "      <td>5592</td>\n",
       "      <td>6332</td>\n",
       "      <td>5874</td>\n",
       "      <td>5708</td>\n",
       "      <td>6004</td>\n",
       "      <td>5965</td>\n",
       "      <td>5950</td>\n",
       "      <td>5266</td>\n",
       "      <td>5876</td>\n",
       "      <td>5309</td>\n",
       "      <td>4873</td>\n",
       "      <td>68579</td>\n",
       "    </tr>\n",
       "  </tbody>\n",
       "</table>\n",
       "</div>"
      ],
      "text/plain": [
       "             branch  address  city  zip code  january  february  march  april  \\\n",
       "70       Near North      NaN   NaN       NaN     9473      8531   9317   8486   \n",
       "71       Scottsdale      NaN   NaN       NaN     2879      2616   3373   2807   \n",
       "72   Portage-Cragin      NaN   NaN       NaN     7500      6941   7699   7441   \n",
       "73           Walker      NaN   NaN       NaN     1934      1503   1900   1757   \n",
       "74         Brainerd      NaN   NaN       NaN     1087       957    990    872   \n",
       "75         Clearing      NaN   NaN       NaN     3420      2819   3504   3316   \n",
       "76   Little Village      NaN   NaN       NaN     5735      4749   5270   5210   \n",
       "77  Sulzer Regional      NaN   NaN       NaN    34177     31377  37311  34055   \n",
       "78        Roosevelt      NaN   NaN       NaN     4682      4538   4967   5117   \n",
       "79    McKinley Park      NaN   NaN       NaN     5830      5592   6332   5874   \n",
       "\n",
       "      may   june   july  august  september  october  november  december  \\\n",
       "70   9239   9930   9859   10012       9740     9065      9125      8144   \n",
       "71   2550   3019   3326    2845       2593     2412      2501      1959   \n",
       "72   6959   7523   8173    8384       7509     7659      7623      6333   \n",
       "73   1586   1769   2204    2057       1749     1800      1675      1575   \n",
       "74    858   1027    944    1236        984     1020      1102      1348   \n",
       "75   2671   3383   3934    3478       3035     3067      2890      2433   \n",
       "76   4804   4426   5161    5317       5175     5790      5308      4297   \n",
       "77  33331  35679  36438   36798      32274    32816     32316     26751   \n",
       "78   4981   5319   5615    5496       4724     4427      4410      4090   \n",
       "79   5708   6004   5965    5950       5266     5876      5309      4873   \n",
       "\n",
       "       ytd  \n",
       "70  110921  \n",
       "71   32880  \n",
       "72   89744  \n",
       "73   21509  \n",
       "74   12425  \n",
       "75   37950  \n",
       "76   61242  \n",
       "77  403323  \n",
       "78   58366  \n",
       "79   68579  "
      ]
     },
     "execution_count": 55,
     "metadata": {},
     "output_type": "execute_result"
    }
   ],
   "source": [
    "# First 10 rows of the DataFrame?\n",
    "df.head(10)\n",
    "\n",
    "# Last 10 rows\n",
    "df.tail(10)"
   ]
  },
  {
   "cell_type": "code",
   "execution_count": 56,
   "metadata": {},
   "outputs": [
    {
     "data": {
      "text/html": [
       "<div>\n",
       "<style scoped>\n",
       "    .dataframe tbody tr th:only-of-type {\n",
       "        vertical-align: middle;\n",
       "    }\n",
       "\n",
       "    .dataframe tbody tr th {\n",
       "        vertical-align: top;\n",
       "    }\n",
       "\n",
       "    .dataframe thead th {\n",
       "        text-align: right;\n",
       "    }\n",
       "</style>\n",
       "<table border=\"1\" class=\"dataframe\">\n",
       "  <thead>\n",
       "    <tr style=\"text-align: right;\">\n",
       "      <th></th>\n",
       "      <th>branch</th>\n",
       "      <th>address</th>\n",
       "      <th>city</th>\n",
       "      <th>zip code</th>\n",
       "      <th>january</th>\n",
       "      <th>february</th>\n",
       "      <th>march</th>\n",
       "      <th>april</th>\n",
       "      <th>may</th>\n",
       "      <th>june</th>\n",
       "      <th>july</th>\n",
       "      <th>august</th>\n",
       "      <th>september</th>\n",
       "      <th>october</th>\n",
       "      <th>november</th>\n",
       "      <th>december</th>\n",
       "      <th>ytd</th>\n",
       "    </tr>\n",
       "  </thead>\n",
       "  <tbody>\n",
       "    <tr>\n",
       "      <th>30</th>\n",
       "      <td>Roden</td>\n",
       "      <td>NaN</td>\n",
       "      <td>NaN</td>\n",
       "      <td>NaN</td>\n",
       "      <td>6333</td>\n",
       "      <td>5764</td>\n",
       "      <td>6389</td>\n",
       "      <td>5613</td>\n",
       "      <td>5932</td>\n",
       "      <td>7062</td>\n",
       "      <td>7408</td>\n",
       "      <td>7359</td>\n",
       "      <td>6212</td>\n",
       "      <td>5955</td>\n",
       "      <td>5689</td>\n",
       "      <td>4967</td>\n",
       "      <td>74683</td>\n",
       "    </tr>\n",
       "    <tr>\n",
       "      <th>31</th>\n",
       "      <td>West Lawn</td>\n",
       "      <td>NaN</td>\n",
       "      <td>NaN</td>\n",
       "      <td>NaN</td>\n",
       "      <td>4673</td>\n",
       "      <td>4122</td>\n",
       "      <td>4678</td>\n",
       "      <td>4588</td>\n",
       "      <td>3750</td>\n",
       "      <td>4250</td>\n",
       "      <td>4825</td>\n",
       "      <td>4778</td>\n",
       "      <td>3848</td>\n",
       "      <td>4532</td>\n",
       "      <td>3942</td>\n",
       "      <td>3062</td>\n",
       "      <td>51048</td>\n",
       "    </tr>\n",
       "    <tr>\n",
       "      <th>32</th>\n",
       "      <td>Chicago Bee</td>\n",
       "      <td>NaN</td>\n",
       "      <td>NaN</td>\n",
       "      <td>NaN</td>\n",
       "      <td>1207</td>\n",
       "      <td>885</td>\n",
       "      <td>1075</td>\n",
       "      <td>825</td>\n",
       "      <td>917</td>\n",
       "      <td>986</td>\n",
       "      <td>1178</td>\n",
       "      <td>1371</td>\n",
       "      <td>1203</td>\n",
       "      <td>1104</td>\n",
       "      <td>1076</td>\n",
       "      <td>913</td>\n",
       "      <td>12740</td>\n",
       "    </tr>\n",
       "    <tr>\n",
       "      <th>33</th>\n",
       "      <td>South Chicago</td>\n",
       "      <td>NaN</td>\n",
       "      <td>NaN</td>\n",
       "      <td>NaN</td>\n",
       "      <td>2270</td>\n",
       "      <td>2183</td>\n",
       "      <td>2447</td>\n",
       "      <td>2043</td>\n",
       "      <td>1895</td>\n",
       "      <td>2118</td>\n",
       "      <td>2402</td>\n",
       "      <td>2299</td>\n",
       "      <td>2037</td>\n",
       "      <td>2100</td>\n",
       "      <td>1624</td>\n",
       "      <td>1562</td>\n",
       "      <td>24980</td>\n",
       "    </tr>\n",
       "    <tr>\n",
       "      <th>34</th>\n",
       "      <td>Bezazian</td>\n",
       "      <td>NaN</td>\n",
       "      <td>NaN</td>\n",
       "      <td>NaN</td>\n",
       "      <td>8300</td>\n",
       "      <td>7707</td>\n",
       "      <td>9213</td>\n",
       "      <td>8705</td>\n",
       "      <td>9262</td>\n",
       "      <td>9401</td>\n",
       "      <td>9363</td>\n",
       "      <td>9105</td>\n",
       "      <td>7876</td>\n",
       "      <td>7964</td>\n",
       "      <td>8288</td>\n",
       "      <td>7648</td>\n",
       "      <td>102832</td>\n",
       "    </tr>\n",
       "    <tr>\n",
       "      <th>35</th>\n",
       "      <td>South Shore</td>\n",
       "      <td>NaN</td>\n",
       "      <td>NaN</td>\n",
       "      <td>NaN</td>\n",
       "      <td>2861</td>\n",
       "      <td>2269</td>\n",
       "      <td>2632</td>\n",
       "      <td>2013</td>\n",
       "      <td>2157</td>\n",
       "      <td>2205</td>\n",
       "      <td>2952</td>\n",
       "      <td>3490</td>\n",
       "      <td>2792</td>\n",
       "      <td>2700</td>\n",
       "      <td>2139</td>\n",
       "      <td>2317</td>\n",
       "      <td>30527</td>\n",
       "    </tr>\n",
       "    <tr>\n",
       "      <th>36</th>\n",
       "      <td>Austin</td>\n",
       "      <td>NaN</td>\n",
       "      <td>NaN</td>\n",
       "      <td>NaN</td>\n",
       "      <td>1217</td>\n",
       "      <td>1253</td>\n",
       "      <td>1492</td>\n",
       "      <td>1307</td>\n",
       "      <td>1192</td>\n",
       "      <td>1367</td>\n",
       "      <td>1622</td>\n",
       "      <td>1455</td>\n",
       "      <td>1061</td>\n",
       "      <td>0</td>\n",
       "      <td>49</td>\n",
       "      <td>0</td>\n",
       "      <td>12015</td>\n",
       "    </tr>\n",
       "    <tr>\n",
       "      <th>37</th>\n",
       "      <td>Canaryville</td>\n",
       "      <td>NaN</td>\n",
       "      <td>NaN</td>\n",
       "      <td>NaN</td>\n",
       "      <td>1703</td>\n",
       "      <td>1496</td>\n",
       "      <td>1904</td>\n",
       "      <td>1930</td>\n",
       "      <td>1717</td>\n",
       "      <td>2129</td>\n",
       "      <td>2249</td>\n",
       "      <td>2274</td>\n",
       "      <td>1897</td>\n",
       "      <td>1952</td>\n",
       "      <td>2059</td>\n",
       "      <td>1717</td>\n",
       "      <td>23027</td>\n",
       "    </tr>\n",
       "    <tr>\n",
       "      <th>38</th>\n",
       "      <td>Avalon</td>\n",
       "      <td>NaN</td>\n",
       "      <td>NaN</td>\n",
       "      <td>NaN</td>\n",
       "      <td>3814</td>\n",
       "      <td>3988</td>\n",
       "      <td>3780</td>\n",
       "      <td>3993</td>\n",
       "      <td>3461</td>\n",
       "      <td>3586</td>\n",
       "      <td>3413</td>\n",
       "      <td>3893</td>\n",
       "      <td>4040</td>\n",
       "      <td>4869</td>\n",
       "      <td>3969</td>\n",
       "      <td>3175</td>\n",
       "      <td>45981</td>\n",
       "    </tr>\n",
       "    <tr>\n",
       "      <th>39</th>\n",
       "      <td>Jeffery Manor</td>\n",
       "      <td>NaN</td>\n",
       "      <td>NaN</td>\n",
       "      <td>NaN</td>\n",
       "      <td>922</td>\n",
       "      <td>742</td>\n",
       "      <td>696</td>\n",
       "      <td>740</td>\n",
       "      <td>608</td>\n",
       "      <td>725</td>\n",
       "      <td>770</td>\n",
       "      <td>770</td>\n",
       "      <td>935</td>\n",
       "      <td>766</td>\n",
       "      <td>737</td>\n",
       "      <td>646</td>\n",
       "      <td>9057</td>\n",
       "    </tr>\n",
       "    <tr>\n",
       "      <th>40</th>\n",
       "      <td>Daley, Richard M. - W Humboldt</td>\n",
       "      <td>NaN</td>\n",
       "      <td>NaN</td>\n",
       "      <td>NaN</td>\n",
       "      <td>3000</td>\n",
       "      <td>2692</td>\n",
       "      <td>2866</td>\n",
       "      <td>2732</td>\n",
       "      <td>2279</td>\n",
       "      <td>2442</td>\n",
       "      <td>2477</td>\n",
       "      <td>2804</td>\n",
       "      <td>2699</td>\n",
       "      <td>2693</td>\n",
       "      <td>2486</td>\n",
       "      <td>2427</td>\n",
       "      <td>31597</td>\n",
       "    </tr>\n",
       "  </tbody>\n",
       "</table>\n",
       "</div>"
      ],
      "text/plain": [
       "                            branch  address  city  zip code  january  \\\n",
       "30                           Roden      NaN   NaN       NaN     6333   \n",
       "31                       West Lawn      NaN   NaN       NaN     4673   \n",
       "32                     Chicago Bee      NaN   NaN       NaN     1207   \n",
       "33                   South Chicago      NaN   NaN       NaN     2270   \n",
       "34                        Bezazian      NaN   NaN       NaN     8300   \n",
       "35                     South Shore      NaN   NaN       NaN     2861   \n",
       "36                          Austin      NaN   NaN       NaN     1217   \n",
       "37                     Canaryville      NaN   NaN       NaN     1703   \n",
       "38                          Avalon      NaN   NaN       NaN     3814   \n",
       "39                   Jeffery Manor      NaN   NaN       NaN      922   \n",
       "40  Daley, Richard M. - W Humboldt      NaN   NaN       NaN     3000   \n",
       "\n",
       "    february  march  april   may  june  july  august  september  october  \\\n",
       "30      5764   6389   5613  5932  7062  7408    7359       6212     5955   \n",
       "31      4122   4678   4588  3750  4250  4825    4778       3848     4532   \n",
       "32       885   1075    825   917   986  1178    1371       1203     1104   \n",
       "33      2183   2447   2043  1895  2118  2402    2299       2037     2100   \n",
       "34      7707   9213   8705  9262  9401  9363    9105       7876     7964   \n",
       "35      2269   2632   2013  2157  2205  2952    3490       2792     2700   \n",
       "36      1253   1492   1307  1192  1367  1622    1455       1061        0   \n",
       "37      1496   1904   1930  1717  2129  2249    2274       1897     1952   \n",
       "38      3988   3780   3993  3461  3586  3413    3893       4040     4869   \n",
       "39       742    696    740   608   725   770     770        935      766   \n",
       "40      2692   2866   2732  2279  2442  2477    2804       2699     2693   \n",
       "\n",
       "    november  december     ytd  \n",
       "30      5689      4967   74683  \n",
       "31      3942      3062   51048  \n",
       "32      1076       913   12740  \n",
       "33      1624      1562   24980  \n",
       "34      8288      7648  102832  \n",
       "35      2139      2317   30527  \n",
       "36        49         0   12015  \n",
       "37      2059      1717   23027  \n",
       "38      3969      3175   45981  \n",
       "39       737       646    9057  \n",
       "40      2486      2427   31597  "
      ]
     },
     "execution_count": 56,
     "metadata": {},
     "output_type": "execute_result"
    }
   ],
   "source": [
    "df[30:41]"
   ]
  },
  {
   "cell_type": "code",
   "execution_count": 57,
   "metadata": {},
   "outputs": [
    {
     "name": "stdout",
     "output_type": "stream",
     "text": [
      "<class 'pandas.core.series.Series'>\n",
      "0     316\n",
      "1    5079\n",
      "2    9954\n",
      "3    8128\n",
      "4    1357\n",
      "Name: january, dtype: int64\n"
     ]
    }
   ],
   "source": [
    "january_column = df['january']\n",
    "print(type(january_column))\n",
    "print(january_column.head())"
   ]
  },
  {
   "cell_type": "code",
   "execution_count": 60,
   "metadata": {},
   "outputs": [
    {
     "name": "stdout",
     "output_type": "stream",
     "text": [
      "             branch                  address     city  zip code  january  \\\n",
      "0       Albany Park     5150 N. Kimball Ave.  Chicago   60625.0     8427   \n",
      "1           Altgeld    13281 S. Corliss Ave.  Chicago   60827.0     1258   \n",
      "2    Archer Heights      5055 S. Archer Ave.  Chicago   60632.0     8104   \n",
      "3            Austin        5615 W. Race Ave.  Chicago   60644.0     1755   \n",
      "4     Austin-Irving  6100 W. Irving Park Rd.  Chicago   60634.0    12593   \n",
      "..              ...                      ...      ...       ...      ...   \n",
      "958       Chinatown   2100 S. Wentworth Ave.  Chicago   60616.0     4795   \n",
      "959        Brainerd         1350 W. 89th St.  Chicago   60620.0      255   \n",
      "960   Brighton Park      4314 S. Archer Ave.  Chicago   60632.0     1394   \n",
      "961   South Chicago     9055 S. Houston Ave.  Chicago   60617.0      496   \n",
      "962     Chicago Bee        3647 S. State St.  Chicago   60609.0      799   \n",
      "\n",
      "     february  march  april    may   june   july  august  september  october  \\\n",
      "0        7023   9702   9344   8865  11650  11778   11306      10466    10997   \n",
      "1         708    854    804    816    870    713     480        702      927   \n",
      "2        6899   9329   9124   7472   8314   8116    9177       9033     9709   \n",
      "3        1316   1942   2200   2133   2359   2080    2405       2417     2571   \n",
      "4       11791  14807  14382  11754  14402  14605   15164      14306    15357   \n",
      "..        ...    ...    ...    ...    ...    ...     ...        ...      ...   \n",
      "958      4258   5316   5343   4791   5367   5477    5362       4991     4847   \n",
      "959       264    370    386    399    421    337     373        361      276   \n",
      "960      1321   1327   1705   1609   1578   1609    1512       1425     1603   \n",
      "961       528    739    775    587    804    720     883        681      697   \n",
      "962       543    709    803    707    931    778     770        714      835   \n",
      "\n",
      "     november  december     ytd  year  \n",
      "0       10567      9934  120059  2011  \n",
      "1         787       692    9611  2011  \n",
      "2        8809      7865  101951  2011  \n",
      "3        2233      2116   25527  2011  \n",
      "4       14069     12404  165634  2011  \n",
      "..        ...       ...     ...   ...  \n",
      "958      4035      3957   58539  2022  \n",
      "959       256       201    3899  2022  \n",
      "960      1579      1278   17940  2022  \n",
      "961       799       615    8324  2022  \n",
      "962       718       788    9095  2022  \n",
      "\n",
      "[963 rows x 18 columns]\n"
     ]
    },
    {
     "name": "stderr",
     "output_type": "stream",
     "text": [
      "C:\\Users\\User\\AppData\\Local\\Temp\\ipykernel_24464\\2456088542.py:5: DeprecationWarning: numpy.core.numeric is deprecated and has been renamed to numpy._core.numeric. The numpy._core namespace contains private NumPy internals and its use is discouraged, as NumPy internals can change without warning in any release. In practice, most real-world usage of numpy.core is to access functionality in the public NumPy API. If that is the case, use the public NumPy API. If not, you are using NumPy internals. If you would still like to access an internal attribute, use numpy._core.numeric._frombuffer.\n",
      "  data = pickle.load(f)\n"
     ]
    }
   ],
   "source": [
    "import pickle\n",
    "\n",
    "\n",
    "with open('C:/Users/User/OneDrive/Documentos/DataModeling/data/data/all_years.pkl', 'rb') as f:\n",
    "    data = pickle.load(f)\n",
    "\n",
    "\n",
    "print(data)"
   ]
  },
  {
   "cell_type": "code",
   "execution_count": 61,
   "metadata": {},
   "outputs": [
    {
     "data": {
      "text/plain": [
       "np.float64(nan)"
      ]
     },
     "execution_count": 61,
     "metadata": {},
     "output_type": "execute_result"
    }
   ],
   "source": [
    "\n",
    "df.loc[2, 'branch']\n",
    "\n",
    "\n",
    "df.iloc[0, 1]"
   ]
  },
  {
   "cell_type": "code",
   "execution_count": 62,
   "metadata": {},
   "outputs": [
    {
     "name": "stdout",
     "output_type": "stream",
     "text": [
      "                              branch  address  city  zip code  january  \\\n",
      "51                      Independence      NaN   NaN       NaN        0   \n",
      "56                  Woodson Regional      NaN   NaN       NaN        0   \n",
      "0                            Altgeld      NaN   NaN       NaN      316   \n",
      "13                      Sherman Park      NaN   NaN       NaN      910   \n",
      "39                     Jeffery Manor      NaN   NaN       NaN      922   \n",
      "..                               ...      ...   ...       ...      ...   \n",
      "57                      Logan Square      NaN   NaN       NaN    11141   \n",
      "19                   Lincoln Belmont      NaN   NaN       NaN    13221   \n",
      "59                         Edgewater      NaN   NaN       NaN    15338   \n",
      "77                   Sulzer Regional      NaN   NaN       NaN    34177   \n",
      "9   Harold Washington Library Center      NaN   NaN       NaN    52985   \n",
      "\n",
      "    february  march  april    may   june   july  august  september  october  \\\n",
      "51         0      0      0      0      0      0       0          0        0   \n",
      "56         0      0      0      0      0      0       0          0        0   \n",
      "0        230    331    404    249    294    583     568        419      355   \n",
      "13       740    832    816    635    713   1121     976        666      548   \n",
      "39       742    696    740    608    725    770     770        935      766   \n",
      "..       ...    ...    ...    ...    ...    ...     ...        ...      ...   \n",
      "57     10355  11892   9932  10069  11549  11790   11462      10819    10818   \n",
      "19     12355  14291  12026  12559  13774  13653   13992      12539    12392   \n",
      "59     14406  16339  13701  14523  16415  16570   17056      15432    14889   \n",
      "77     31377  37311  34055  33331  35679  36438   36798      32274    32816   \n",
      "9      47301  53412  49640  49826  51680  59485   60577      52602    54979   \n",
      "\n",
      "    november  december     ytd  \n",
      "51         0         0       0  \n",
      "56         0         0       0  \n",
      "0        268       280    4297  \n",
      "13       615       656    9228  \n",
      "39       737       646    9057  \n",
      "..       ...       ...     ...  \n",
      "57     10555      8932  129314  \n",
      "19     12800     10872  154474  \n",
      "59     14852     13441  182962  \n",
      "77     32316     26751  403323  \n",
      "9      54575     47508  634570  \n",
      "\n",
      "[80 rows x 17 columns]\n"
     ]
    }
   ],
   "source": [
    "df_sorted = df.sort_values(by='january', ascending=True)\n",
    "print(df_sorted)"
   ]
  },
  {
   "cell_type": "markdown",
   "metadata": {},
   "source": [
    "## Setup your Python and Jupyter environment\n",
    "\n",
    "### Step 1: Install Python\n",
    "\n",
    "1.\tDownload Python:\n",
    "\n",
    "- Go to the official Python website.\n",
    "- Download the latest version of Python (e.g., Python 3.x.x) for your operating system (Windows, macOS, or Linux).\n",
    "\n",
    "2.\tInstall Python:  \n",
    "\n",
    "Windows:\n",
    "- Run the downloaded .exe file.\n",
    "- IMPORTANT: During installation, check the box that says “Add Python to PATH”.\n",
    "- Select “Customize installation” (optional, but helpful for control over features).\n",
    "- Complete the installation.\n",
    "  \n",
    "macOS:\n",
    "- Run the .pkg file and follow the instructions.\n",
    "- Alternatively, use the terminal command (requires Homebrew):\n",
    "\n",
    "```\n",
    "brew install python3\n",
    "```\n",
    "\n",
    "Linux:\n",
    "- Use the package manager (e.g., apt for Ubuntu):\n",
    "\n",
    "```\n",
    "sudo apt update\n",
    "sudo apt install python3 python3-pip\n",
    "```\n",
    "\n",
    "3.\tVerify Python Installation:\n",
    "\n",
    "- Open a terminal or command prompt and type:\n",
    "```\n",
    "python --version\n",
    "```\n",
    "\n",
    "This should show the Python version you installed (e.g., Python 3.10.0).\n",
    "\n",
    "### Step 2: Install a Package Manager (pip)\n",
    "\n",
    "pip is the package manager for Python and is usually bundled with Python installations. You can use it to install additional libraries, including Jupyter.\n",
    "\n",
    "1.Verify pip is installed:\n",
    "- Open a terminal or command prompt and type:\n",
    "\n",
    "```\n",
    "pip --version\n",
    "```\n",
    "\n",
    "- If pip is installed, it will display the version.\n",
    "\n",
    "2.\tUpgrade pip (optional):\n",
    "- It’s a good idea to keep pip up-to-date. In the terminal/command prompt, type:\n",
    "\n",
    "```\n",
    "python -m pip install --upgrade pip\n",
    "```\n",
    "\n",
    "### Step 3: Set Up a Virtual Environment (Optional but Recommended)\n",
    "\n",
    "Virtual environments allow you to isolate Python packages and dependencies for different projects.\n",
    "\n",
    "1.\tCreate a virtual environment:\n",
    "\n",
    "Navigate to the directory where you want to set up the environment and run:\n",
    "\n",
    "```\n",
    "python -m venv myenv\n",
    "```\n",
    "\n",
    "This will create a virtual environment named myenv.\n",
    "\n",
    "2. Activate the virtual environment:\n",
    "Windows:\n",
    "\n",
    "```\n",
    "myenv\\Scripts\\activate\n",
    "```\n",
    "\n",
    "- macOS/Linux:\n",
    "\n",
    "```\n",
    "source myenv/bin/activate\n",
    "```\n",
    "\n",
    "3.\tDeactivate the virtual environment: (when you’re done working)\n",
    "\n",
    "```\n",
    "deactivate\n",
    "```\n",
    "\n",
    "\n",
    "### Step 4: Install Jupyter Notebook\n",
    "\n",
    "Jupyter is installed using pip. Once Python (and pip) is set up, Jupyter can be easily installed.\n",
    "\n",
    "1. Install Jupyter:\n",
    "\n",
    "In the terminal or command prompt (and optionally inside your virtual environment), type:\n",
    "\n",
    "```\n",
    "pip install jupyter\n",
    "```\n",
    "\n",
    "2.\tVerify Jupyter Installation:\n",
    "\n",
    "After installation, type:\n",
    "\n",
    "```\n",
    "jupyter --version\n",
    "```\n",
    "\n",
    "This should display the version of Jupyter.\n",
    "\n",
    "### Step 5: Launch Jupyter Notebook\n",
    "\n",
    "1.\tRun Jupyter Notebook:\n",
    "\n",
    "In your terminal/command prompt, type:\n",
    "\n",
    "```\n",
    "jupyter notebook\n",
    "```\n",
    "\n",
    "This will open Jupyter in your default web browser.\n",
    "\n",
    "2.\tCreate a new notebook:\n",
    "- In the Jupyter dashboard (the browser window), click New and select Python 3 to create a new notebook.\n",
    "\n",
    "### Step 6: Install Common Python Packages\n",
    "\n",
    "Install commonly used libraries such as numpy, pandas, and matplotlib.\n",
    "\n",
    "1.\tInstall packages:\n",
    "\n",
    "```\n",
    "pip install numpy pandas matplotlib\n",
    "```\n",
    "\n",
    "2.\tTest packages in Jupyter:\n",
    "- In a new Jupyter notebook, try importing these libraries:\n",
    "\n",
    "```\n",
    "import numpy as np\n",
    "import pandas as pd\n",
    "import matplotlib.pyplot as plt\n",
    "```\n",
    "\n",
    "### Step 7: Configure Jupyter for Better Usage (Optional)\n",
    "\n",
    "You can enhance your Jupyter environment with additional configurations.\n",
    "\n",
    "1.\tJupyterLab (an advanced alternative to Jupyter Notebook):\n",
    "\n",
    "Install JupyterLab:\n",
    "```\n",
    "pip install jupyterlab\n",
    "```\n",
    "\n",
    "Launch JupyterLab by typing:\n",
    "```\n",
    "jupyter lab\n",
    "```\n",
    "\n",
    "2.\tInstall Jupyter Extensions (optional but useful):\n",
    "- Jupyter extensions add useful features like a table of contents, variable inspector, etc.\n",
    "- First, install jupyter_contrib_nbextensions:\n",
    "\n",
    "```\n",
    "pip install jupyter_contrib_nbextensions\n",
    "jupyter contrib nbextension install --user\n",
    "```\n",
    "\n",
    "- Open Jupyter Notebook and enable the desired extensions from the Nbextensions tab.\n",
    "\n",
    "### Step 8: Install Integrated Development Environment (IDE) (Optional)\n",
    "\n",
    "You can install an IDE like VSCode or PyCharm for a better Python development experience.\n",
    "\n",
    "1. Install Visual Studio Code:\n",
    "- Download and install Visual Studio Code.\n",
    "- Install the Python extension from the VSCode marketplace.\n",
    "\n",
    "2. Configure Jupyter in VSCode:\n",
    "- Once the Python extension is installed in VSCode, you can open .ipynb files (Jupyter notebooks) directly in VSCode and run them within the IDE.\n",
    "\n",
    "### Step 9: Explore and Test\n",
    "\n",
    "Your environment is now ready! Explore Python in Jupyter by writing and running simple code snippets, installing additional libraries as needed for specific projects, and trying out new features.\n",
    "\n",
    "Troubleshooting Tips:\n",
    "\n",
    "- Python not recognized: Ensure Python is added to your system’s PATH. On Windows, you can manually add it if you didn’t check the option during installation.\n",
    "- Permission errors: Run commands with sudo on macOS/Linux or as an administrator on Windows if you encounter permission issues.\n",
    "- Kernel issues in Jupyter: If you have multiple Python versions, ensure the correct Python environment is linked to Jupyter using the command python -m ipykernel install --user --name=myenv for the correct virtual environment."
   ]
  }
 ],
 "metadata": {
  "kernelspec": {
   "display_name": "Python 3",
   "language": "python",
   "name": "python3"
  },
  "language_info": {
   "codemirror_mode": {
    "name": "ipython",
    "version": 3
   },
   "file_extension": ".py",
   "mimetype": "text/x-python",
   "name": "python",
   "nbconvert_exporter": "python",
   "pygments_lexer": "ipython3",
   "version": "3.13.0"
  }
 },
 "nbformat": 4,
 "nbformat_minor": 2
}
